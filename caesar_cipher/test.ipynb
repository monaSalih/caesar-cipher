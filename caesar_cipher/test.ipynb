{
 "cells": [
  {
   "cell_type": "code",
   "execution_count": 2,
   "metadata": {},
   "outputs": [],
   "source": [
    "import nltk\n",
    "import re\n",
    "\n",
    "nltk.download('words', quiet=True)\n",
    "nltk.download('names', quiet=True)\n",
    "\n",
    "from nltk.corpus import words, names\n",
    "\n",
    "word_list = words.words()\n",
    "name_list = names.words()"
   ]
  },
  {
   "cell_type": "code",
   "execution_count": 3,
   "metadata": {},
   "outputs": [
    {
     "name": "stdout",
     "output_type": "stream",
     "text": [
      "97 65\n",
      "97 65\n"
     ]
    }
   ],
   "source": [
    "ofset_upper = 65\n",
    "ofset_lower = 97\n",
    "print(ofset_lower, ofset_upper)\n",
    "\n",
    "\n",
    "print(ofset_lower, ofset_upper)"
   ]
  },
  {
   "cell_type": "code",
   "execution_count": null,
   "metadata": {},
   "outputs": [],
   "source": []
  }
 ],
 "metadata": {
  "interpreter": {
   "hash": "6c94e31f28cca60065238d30ece6cb532f22f5a1ff1efaf414006ea8d50b5bb5"
  },
  "kernelspec": {
   "display_name": "Python 3.8.10 64-bit ('.venv': poetry)",
   "name": "python3"
  },
  "language_info": {
   "codemirror_mode": {
    "name": "ipython",
    "version": 3
   },
   "file_extension": ".py",
   "mimetype": "text/x-python",
   "name": "python",
   "nbconvert_exporter": "python",
   "pygments_lexer": "ipython3",
   "version": "3.8.10"
  },
  "orig_nbformat": 4
 },
 "nbformat": 4,
 "nbformat_minor": 2
}
